{
 "cells": [
  {
   "cell_type": "code",
   "execution_count": 1,
   "source": [
    "import pandas as pd\n",
    "import numpy as np\n",
    "import matplotlib.pyplot as plt\n",
    "import seaborn as sbs"
   ],
   "outputs": [],
   "metadata": {}
  },
  {
   "cell_type": "code",
   "execution_count": 2,
   "source": [
    "data = pd.read_csv(\"clustered_forestfires.csv\")\n",
    "data.loc[:, \"log_area\"] = np.log(data[\"area\"] + 1)"
   ],
   "outputs": [],
   "metadata": {}
  },
  {
   "cell_type": "code",
   "execution_count": 3,
   "source": [
    "data.loc[:, \"month_type\"] = 1\n",
    "data.loc[(data[\"month\"] == \"sep\") | (data[\"month\"] == \"aug\"), \"month_type\"] = 2"
   ],
   "outputs": [],
   "metadata": {}
  },
  {
   "cell_type": "code",
   "execution_count": 4,
   "source": [
    "import statsmodels.formula.api as smf\n",
    "import statsmodels.api as sm\n",
    "from sklearn.metrics import mean_squared_error"
   ],
   "outputs": [],
   "metadata": {}
  },
  {
   "cell_type": "code",
   "execution_count": 5,
   "source": [
    "X = data[[\"month_type\", \"FFMC\", \"DMC\", \"ISI\", \"temp\", \"wind\", \"DC\"]].to_numpy()\n",
    "X = sm.add_constant(X)\n",
    "y = data[\"log_area\"]"
   ],
   "outputs": [],
   "metadata": {}
  },
  {
   "cell_type": "markdown",
   "source": [
    "# Experiment 1"
   ],
   "metadata": {}
  },
  {
   "cell_type": "code",
   "execution_count": 7,
   "source": [
    "formula = \"log_area ~ month_type + FFMC + DMC + ISI + temp + wind + DC\"\n",
    "\n",
    "mod1 = smf.glm(formula=formula, data=data, family=sm.families.Gaussian()).fit()\n",
    "print(mod1.summary())"
   ],
   "outputs": [
    {
     "output_type": "stream",
     "name": "stdout",
     "text": [
      "                 Generalized Linear Model Regression Results                  \n",
      "==============================================================================\n",
      "Dep. Variable:               log_area   No. Observations:                  517\n",
      "Model:                            GLM   Df Residuals:                      509\n",
      "Model Family:                Gaussian   Df Model:                            7\n",
      "Link Function:               identity   Scale:                          1.9469\n",
      "Method:                          IRLS   Log-Likelihood:                -901.78\n",
      "Date:                Sun, 18 Jul 2021   Deviance:                       990.96\n",
      "Time:                        14:04:22   Pearson chi2:                     991.\n",
      "No. Iterations:                     3                                         \n",
      "Covariance Type:            nonrobust                                         \n",
      "==============================================================================\n",
      "                 coef    std err          z      P>|z|      [0.025      0.975]\n",
      "------------------------------------------------------------------------------\n",
      "Intercept     -0.4163      1.188     -0.350      0.726      -2.745       1.912\n",
      "month_type    -0.0726      0.243     -0.299      0.765      -0.548       0.403\n",
      "FFMC           0.0115      0.014      0.824      0.410      -0.016       0.039\n",
      "DMC            0.0007      0.001      0.539      0.590      -0.002       0.003\n",
      "ISI           -0.0260      0.017     -1.549      0.121      -0.059       0.007\n",
      "temp           0.0133      0.014      0.978      0.328      -0.013       0.040\n",
      "wind           0.0797      0.036      2.191      0.028       0.008       0.151\n",
      "DC             0.0003      0.000      0.700      0.484      -0.001       0.001\n",
      "==============================================================================\n"
     ]
    }
   ],
   "metadata": {}
  },
  {
   "cell_type": "code",
   "execution_count": 17,
   "source": [
    "y_pred_1 = mod1.predict(X)"
   ],
   "outputs": [],
   "metadata": {}
  },
  {
   "cell_type": "markdown",
   "source": [
    "# Experiment 2"
   ],
   "metadata": {}
  },
  {
   "cell_type": "code",
   "execution_count": 9,
   "source": [
    "formula = \"log_area ~ (FFMC + DMC + ISI + temp + wind + DC)*month_type\"\n",
    "\n",
    "mod2 = smf.glm(formula=formula, data=data, family=sm.families.Gaussian()).fit()\n",
    "print(mod2.summary())"
   ],
   "outputs": [
    {
     "output_type": "stream",
     "name": "stdout",
     "text": [
      "                 Generalized Linear Model Regression Results                  \n",
      "==============================================================================\n",
      "Dep. Variable:               log_area   No. Observations:                  517\n",
      "Model:                            GLM   Df Residuals:                      503\n",
      "Model Family:                Gaussian   Df Model:                           13\n",
      "Link Function:               identity   Scale:                          1.9481\n",
      "Method:                          IRLS   Log-Likelihood:                -898.87\n",
      "Date:                Sun, 18 Jul 2021   Deviance:                       979.88\n",
      "Time:                        14:04:22   Pearson chi2:                     980.\n",
      "No. Iterations:                     3                                         \n",
      "Covariance Type:            nonrobust                                         \n",
      "===================================================================================\n",
      "                      coef    std err          z      P>|z|      [0.025      0.975]\n",
      "-----------------------------------------------------------------------------------\n",
      "Intercept           0.0792      3.620      0.022      0.983      -7.016       7.175\n",
      "FFMC                0.0164      0.043      0.383      0.702      -0.068       0.100\n",
      "DMC                 0.0051      0.007      0.706      0.480      -0.009       0.019\n",
      "ISI                -0.0455      0.056     -0.809      0.419      -0.156       0.065\n",
      "temp               -0.0676      0.053     -1.279      0.201      -0.171       0.036\n",
      "wind                0.2045      0.125      1.631      0.103      -0.041       0.450\n",
      "DC                  0.0003      0.002      0.167      0.867      -0.003       0.003\n",
      "month_type         -0.5020      2.693     -0.186      0.852      -5.780       4.776\n",
      "FFMC:month_type    -0.0039      0.031     -0.128      0.898      -0.064       0.056\n",
      "DMC:month_type     -0.0023      0.004     -0.588      0.557      -0.010       0.005\n",
      "ISI:month_type      0.0143      0.035      0.404      0.686      -0.055       0.084\n",
      "temp:month_type     0.0500      0.030      1.645      0.100      -0.010       0.110\n",
      "wind:month_type    -0.0822      0.076     -1.087      0.277      -0.230       0.066\n",
      "DC:month_type       0.0003      0.001      0.218      0.827      -0.002       0.003\n",
      "===================================================================================\n"
     ]
    }
   ],
   "metadata": {}
  },
  {
   "cell_type": "code",
   "execution_count": null,
   "source": [
    "y_pred_2 = predict(mod2, X)\n",
    "mse = mean_squared_error(y, y_pred_2)\n",
    "print(mse)"
   ],
   "outputs": [],
   "metadata": {}
  },
  {
   "cell_type": "markdown",
   "source": [
    "# Experiment 3"
   ],
   "metadata": {}
  },
  {
   "cell_type": "code",
   "execution_count": null,
   "source": [
    "formula = \"log_area ~ temp*month_type\"\n",
    "\n",
    "mod3 = smf.glm(formula=formula, data=data, family=sm.families.Gaussian()).fit()\n",
    "print(mod3.summary())"
   ],
   "outputs": [],
   "metadata": {}
  },
  {
   "cell_type": "code",
   "execution_count": null,
   "source": [
    "y_pred_3 = predict(mod3, X)\n",
    "mse = mean_squared_error(y, y_pred_3)\n",
    "print(mse)"
   ],
   "outputs": [],
   "metadata": {}
  }
 ],
 "metadata": {
  "orig_nbformat": 4,
  "language_info": {
   "name": "python"
  }
 },
 "nbformat": 4,
 "nbformat_minor": 2
}