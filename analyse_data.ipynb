{
 "cells": [
  {
   "cell_type": "code",
   "execution_count": 1,
   "source": [
    "import pandas as pd\n",
    "import numpy as np\n",
    "import matplotlib.pyplot as plt\n",
    "import seaborn as sbs"
   ],
   "outputs": [],
   "metadata": {}
  },
  {
   "cell_type": "markdown",
   "source": [
    "# Load the dataset"
   ],
   "metadata": {}
  },
  {
   "cell_type": "code",
   "execution_count": 2,
   "source": [
    "data = pd.read_csv(\"clustered_forestfires.csv\")\n",
    "data.loc[:, \"log_area\"] = np.log(data[\"area\"] + 1)"
   ],
   "outputs": [],
   "metadata": {}
  },
  {
   "cell_type": "code",
   "execution_count": 3,
   "source": [
    "data.head(10)"
   ],
   "outputs": [
    {
     "output_type": "execute_result",
     "data": {
      "text/plain": [
       "   Unnamed: 0  X  Y month  day  FFMC    DMC     DC   ISI  temp  RH  wind  \\\n",
       "0           0  7  5   mar  fri  86.2   26.2   94.3   5.1   8.2  51   6.7   \n",
       "1           1  7  4   oct  tue  90.6   35.4  669.1   6.7  18.0  33   0.9   \n",
       "2           2  7  4   oct  sat  90.6   43.7  686.9   6.7  14.6  33   1.3   \n",
       "3           3  8  6   mar  fri  91.7   33.3   77.5   9.0   8.3  97   4.0   \n",
       "4           4  8  6   mar  sun  89.3   51.3  102.2   9.6  11.4  99   1.8   \n",
       "5           5  8  6   aug  sun  92.3   85.3  488.0  14.7  22.2  29   5.4   \n",
       "6           6  8  6   aug  mon  92.3   88.9  495.6   8.5  24.1  27   3.1   \n",
       "7           7  8  6   aug  mon  91.5  145.4  608.2  10.7   8.0  86   2.2   \n",
       "8           8  8  6   sep  tue  91.0  129.5  692.6   7.0  13.1  63   5.4   \n",
       "9           9  7  5   sep  sat  92.5   88.0  698.6   7.1  22.8  40   4.0   \n",
       "\n",
       "   rain  area  cluster  log_area  \n",
       "0   0.0   0.0        2       0.0  \n",
       "1   0.0   0.0        0       0.0  \n",
       "2   0.0   0.0        0       0.0  \n",
       "3   0.2   0.0        1       0.0  \n",
       "4   0.0   0.0        1       0.0  \n",
       "5   0.0   0.0        0       0.0  \n",
       "6   0.0   0.0        0       0.0  \n",
       "7   0.0   0.0        1       0.0  \n",
       "8   0.0   0.0        2       0.0  \n",
       "9   0.0   0.0        3       0.0  "
      ],
      "text/html": [
       "<div>\n",
       "<style scoped>\n",
       "    .dataframe tbody tr th:only-of-type {\n",
       "        vertical-align: middle;\n",
       "    }\n",
       "\n",
       "    .dataframe tbody tr th {\n",
       "        vertical-align: top;\n",
       "    }\n",
       "\n",
       "    .dataframe thead th {\n",
       "        text-align: right;\n",
       "    }\n",
       "</style>\n",
       "<table border=\"1\" class=\"dataframe\">\n",
       "  <thead>\n",
       "    <tr style=\"text-align: right;\">\n",
       "      <th></th>\n",
       "      <th>Unnamed: 0</th>\n",
       "      <th>X</th>\n",
       "      <th>Y</th>\n",
       "      <th>month</th>\n",
       "      <th>day</th>\n",
       "      <th>FFMC</th>\n",
       "      <th>DMC</th>\n",
       "      <th>DC</th>\n",
       "      <th>ISI</th>\n",
       "      <th>temp</th>\n",
       "      <th>RH</th>\n",
       "      <th>wind</th>\n",
       "      <th>rain</th>\n",
       "      <th>area</th>\n",
       "      <th>cluster</th>\n",
       "      <th>log_area</th>\n",
       "    </tr>\n",
       "  </thead>\n",
       "  <tbody>\n",
       "    <tr>\n",
       "      <th>0</th>\n",
       "      <td>0</td>\n",
       "      <td>7</td>\n",
       "      <td>5</td>\n",
       "      <td>mar</td>\n",
       "      <td>fri</td>\n",
       "      <td>86.2</td>\n",
       "      <td>26.2</td>\n",
       "      <td>94.3</td>\n",
       "      <td>5.1</td>\n",
       "      <td>8.2</td>\n",
       "      <td>51</td>\n",
       "      <td>6.7</td>\n",
       "      <td>0.0</td>\n",
       "      <td>0.0</td>\n",
       "      <td>2</td>\n",
       "      <td>0.0</td>\n",
       "    </tr>\n",
       "    <tr>\n",
       "      <th>1</th>\n",
       "      <td>1</td>\n",
       "      <td>7</td>\n",
       "      <td>4</td>\n",
       "      <td>oct</td>\n",
       "      <td>tue</td>\n",
       "      <td>90.6</td>\n",
       "      <td>35.4</td>\n",
       "      <td>669.1</td>\n",
       "      <td>6.7</td>\n",
       "      <td>18.0</td>\n",
       "      <td>33</td>\n",
       "      <td>0.9</td>\n",
       "      <td>0.0</td>\n",
       "      <td>0.0</td>\n",
       "      <td>0</td>\n",
       "      <td>0.0</td>\n",
       "    </tr>\n",
       "    <tr>\n",
       "      <th>2</th>\n",
       "      <td>2</td>\n",
       "      <td>7</td>\n",
       "      <td>4</td>\n",
       "      <td>oct</td>\n",
       "      <td>sat</td>\n",
       "      <td>90.6</td>\n",
       "      <td>43.7</td>\n",
       "      <td>686.9</td>\n",
       "      <td>6.7</td>\n",
       "      <td>14.6</td>\n",
       "      <td>33</td>\n",
       "      <td>1.3</td>\n",
       "      <td>0.0</td>\n",
       "      <td>0.0</td>\n",
       "      <td>0</td>\n",
       "      <td>0.0</td>\n",
       "    </tr>\n",
       "    <tr>\n",
       "      <th>3</th>\n",
       "      <td>3</td>\n",
       "      <td>8</td>\n",
       "      <td>6</td>\n",
       "      <td>mar</td>\n",
       "      <td>fri</td>\n",
       "      <td>91.7</td>\n",
       "      <td>33.3</td>\n",
       "      <td>77.5</td>\n",
       "      <td>9.0</td>\n",
       "      <td>8.3</td>\n",
       "      <td>97</td>\n",
       "      <td>4.0</td>\n",
       "      <td>0.2</td>\n",
       "      <td>0.0</td>\n",
       "      <td>1</td>\n",
       "      <td>0.0</td>\n",
       "    </tr>\n",
       "    <tr>\n",
       "      <th>4</th>\n",
       "      <td>4</td>\n",
       "      <td>8</td>\n",
       "      <td>6</td>\n",
       "      <td>mar</td>\n",
       "      <td>sun</td>\n",
       "      <td>89.3</td>\n",
       "      <td>51.3</td>\n",
       "      <td>102.2</td>\n",
       "      <td>9.6</td>\n",
       "      <td>11.4</td>\n",
       "      <td>99</td>\n",
       "      <td>1.8</td>\n",
       "      <td>0.0</td>\n",
       "      <td>0.0</td>\n",
       "      <td>1</td>\n",
       "      <td>0.0</td>\n",
       "    </tr>\n",
       "    <tr>\n",
       "      <th>5</th>\n",
       "      <td>5</td>\n",
       "      <td>8</td>\n",
       "      <td>6</td>\n",
       "      <td>aug</td>\n",
       "      <td>sun</td>\n",
       "      <td>92.3</td>\n",
       "      <td>85.3</td>\n",
       "      <td>488.0</td>\n",
       "      <td>14.7</td>\n",
       "      <td>22.2</td>\n",
       "      <td>29</td>\n",
       "      <td>5.4</td>\n",
       "      <td>0.0</td>\n",
       "      <td>0.0</td>\n",
       "      <td>0</td>\n",
       "      <td>0.0</td>\n",
       "    </tr>\n",
       "    <tr>\n",
       "      <th>6</th>\n",
       "      <td>6</td>\n",
       "      <td>8</td>\n",
       "      <td>6</td>\n",
       "      <td>aug</td>\n",
       "      <td>mon</td>\n",
       "      <td>92.3</td>\n",
       "      <td>88.9</td>\n",
       "      <td>495.6</td>\n",
       "      <td>8.5</td>\n",
       "      <td>24.1</td>\n",
       "      <td>27</td>\n",
       "      <td>3.1</td>\n",
       "      <td>0.0</td>\n",
       "      <td>0.0</td>\n",
       "      <td>0</td>\n",
       "      <td>0.0</td>\n",
       "    </tr>\n",
       "    <tr>\n",
       "      <th>7</th>\n",
       "      <td>7</td>\n",
       "      <td>8</td>\n",
       "      <td>6</td>\n",
       "      <td>aug</td>\n",
       "      <td>mon</td>\n",
       "      <td>91.5</td>\n",
       "      <td>145.4</td>\n",
       "      <td>608.2</td>\n",
       "      <td>10.7</td>\n",
       "      <td>8.0</td>\n",
       "      <td>86</td>\n",
       "      <td>2.2</td>\n",
       "      <td>0.0</td>\n",
       "      <td>0.0</td>\n",
       "      <td>1</td>\n",
       "      <td>0.0</td>\n",
       "    </tr>\n",
       "    <tr>\n",
       "      <th>8</th>\n",
       "      <td>8</td>\n",
       "      <td>8</td>\n",
       "      <td>6</td>\n",
       "      <td>sep</td>\n",
       "      <td>tue</td>\n",
       "      <td>91.0</td>\n",
       "      <td>129.5</td>\n",
       "      <td>692.6</td>\n",
       "      <td>7.0</td>\n",
       "      <td>13.1</td>\n",
       "      <td>63</td>\n",
       "      <td>5.4</td>\n",
       "      <td>0.0</td>\n",
       "      <td>0.0</td>\n",
       "      <td>2</td>\n",
       "      <td>0.0</td>\n",
       "    </tr>\n",
       "    <tr>\n",
       "      <th>9</th>\n",
       "      <td>9</td>\n",
       "      <td>7</td>\n",
       "      <td>5</td>\n",
       "      <td>sep</td>\n",
       "      <td>sat</td>\n",
       "      <td>92.5</td>\n",
       "      <td>88.0</td>\n",
       "      <td>698.6</td>\n",
       "      <td>7.1</td>\n",
       "      <td>22.8</td>\n",
       "      <td>40</td>\n",
       "      <td>4.0</td>\n",
       "      <td>0.0</td>\n",
       "      <td>0.0</td>\n",
       "      <td>3</td>\n",
       "      <td>0.0</td>\n",
       "    </tr>\n",
       "  </tbody>\n",
       "</table>\n",
       "</div>"
      ]
     },
     "metadata": {},
     "execution_count": 3
    }
   ],
   "metadata": {}
  },
  {
   "cell_type": "markdown",
   "source": [
    "# Area and time"
   ],
   "metadata": {}
  },
  {
   "cell_type": "code",
   "execution_count": 5,
   "source": [
    "sbs.histplot(data[\"log_area\"])"
   ],
   "outputs": [
    {
     "output_type": "execute_result",
     "data": {
      "text/plain": [
       "<AxesSubplot:xlabel='log_area', ylabel='Count'>"
      ]
     },
     "metadata": {},
     "execution_count": 5
    },
    {
     "output_type": "display_data",
     "data": {
      "text/plain": [
       "<Figure size 432x288 with 1 Axes>"
      ],
      "image/png": "[encoded data removed]"
     },
     "metadata": {
      "needs_background": "light"
     }
    }
   ],
   "metadata": {}
  },
  {
   "cell_type": "code",
   "execution_count": 6,
   "source": [
    "data[\"region\"] = list(zip(data[\"X\"], data[\"Y\"]))"
   ],
   "outputs": [],
   "metadata": {}
  },
  {
   "cell_type": "code",
   "execution_count": 20,
   "source": [
    "plt.figure(figsize=(20, 10))\n",
    "plt.xticks(rotation=45, fontsize=20)\n",
    "plt.xlabel(\"Region\", fontsize=20)\n",
    "plt.yticks(fontsize=20)\n",
    "plt.ylabel(\"Log_area\", fontsize=20)\n",
    "sbs.boxplot(x=data[\"region\"], y=data[\"log_area\"])"
   ],
   "outputs": [
    {
     "output_type": "execute_result",
     "data": {
      "text/plain": [
       "<AxesSubplot:xlabel='region', ylabel='log_area'>"
      ]
     },
     "metadata": {},
     "execution_count": 20
    },
    {
     "output_type": "display_data",
     "data": {
      "text/plain": [
       "<Figure size 1440x720 with 1 Axes>"
      ],
      "image/png": "[encoded data removed]"
     },
     "metadata": {
      "needs_background": "light"
     }
    }
   ],
   "metadata": {}
  },
  {
   "cell_type": "code",
   "execution_count": 16,
   "source": [
    "import statsmodels.api as sm\n",
    "from statsmodels.formula.api import ols \n",
    "\n",
    "region_data = pd.DataFrame({\"region\": data[\"region\"], \"area\": data[\"log_area\"]})\n",
    "\n",
    "anova_model = ols(\"area ~ C(region)\", data=region_data).fit()\n",
    "anova_table = sm.stats.anova_lm(anova_model, typ=3)\n",
    "anova_table"
   ],
   "outputs": [
    {
     "output_type": "execute_result",
     "data": {
      "text/plain": [
       "               sum_sq     df        F    PR(>F)\n",
       "Intercept    3.588393    1.0  1.91743  0.166782\n",
       "C(region)  108.929585   35.0  1.66302  0.011324\n",
       "Residual   900.171947  481.0      NaN       NaN"
      ],
      "text/html": [
       "<div>\n",
       "<style scoped>\n",
       "    .dataframe tbody tr th:only-of-type {\n",
       "        vertical-align: middle;\n",
       "    }\n",
       "\n",
       "    .dataframe tbody tr th {\n",
       "        vertical-align: top;\n",
       "    }\n",
       "\n",
       "    .dataframe thead th {\n",
       "        text-align: right;\n",
       "    }\n",
       "</style>\n",
       "<table border=\"1\" class=\"dataframe\">\n",
       "  <thead>\n",
       "    <tr style=\"text-align: right;\">\n",
       "      <th></th>\n",
       "      <th>sum_sq</th>\n",
       "      <th>df</th>\n",
       "      <th>F</th>\n",
       "      <th>PR(&gt;F)</th>\n",
       "    </tr>\n",
       "  </thead>\n",
       "  <tbody>\n",
       "    <tr>\n",
       "      <th>Intercept</th>\n",
       "      <td>3.588393</td>\n",
       "      <td>1.0</td>\n",
       "      <td>1.91743</td>\n",
       "      <td>0.166782</td>\n",
       "    </tr>\n",
       "    <tr>\n",
       "      <th>C(region)</th>\n",
       "      <td>108.929585</td>\n",
       "      <td>35.0</td>\n",
       "      <td>1.66302</td>\n",
       "      <td>0.011324</td>\n",
       "    </tr>\n",
       "    <tr>\n",
       "      <th>Residual</th>\n",
       "      <td>900.171947</td>\n",
       "      <td>481.0</td>\n",
       "      <td>NaN</td>\n",
       "      <td>NaN</td>\n",
       "    </tr>\n",
       "  </tbody>\n",
       "</table>\n",
       "</div>"
      ]
     },
     "metadata": {},
     "execution_count": 16
    }
   ],
   "metadata": {}
  },
  {
   "cell_type": "code",
   "execution_count": 17,
   "source": [
    "import statsmodels.api as sm\n",
    "from statsmodels.formula.api import ols \n",
    "\n",
    "tmp_data = data[data[\"area\"] > 0]\n",
    "region_data = pd.DataFrame({\"region\": tmp_data[\"region\"], \"area\": tmp_data[\"log_area\"]})\n",
    "\n",
    "anova_model = ols(\"area ~ C(region)\", data=region_data).fit()\n",
    "anova_table = sm.stats.anova_lm(anova_model, typ=3)\n",
    "anova_table"
   ],
   "outputs": [
    {
     "output_type": "execute_result",
     "data": {
      "text/plain": [
       "               sum_sq     df          F    PR(>F)\n",
       "Intercept   17.044867    1.0  11.139330  0.000981\n",
       "C(region)   62.644907   32.0   1.279385  0.154033\n",
       "Residual   362.646001  237.0        NaN       NaN"
      ],
      "text/html": [
       "<div>\n",
       "<style scoped>\n",
       "    .dataframe tbody tr th:only-of-type {\n",
       "        vertical-align: middle;\n",
       "    }\n",
       "\n",
       "    .dataframe tbody tr th {\n",
       "        vertical-align: top;\n",
       "    }\n",
       "\n",
       "    .dataframe thead th {\n",
       "        text-align: right;\n",
       "    }\n",
       "</style>\n",
       "<table border=\"1\" class=\"dataframe\">\n",
       "  <thead>\n",
       "    <tr style=\"text-align: right;\">\n",
       "      <th></th>\n",
       "      <th>sum_sq</th>\n",
       "      <th>df</th>\n",
       "      <th>F</th>\n",
       "      <th>PR(&gt;F)</th>\n",
       "    </tr>\n",
       "  </thead>\n",
       "  <tbody>\n",
       "    <tr>\n",
       "      <th>Intercept</th>\n",
       "      <td>17.044867</td>\n",
       "      <td>1.0</td>\n",
       "      <td>11.139330</td>\n",
       "      <td>0.000981</td>\n",
       "    </tr>\n",
       "    <tr>\n",
       "      <th>C(region)</th>\n",
       "      <td>62.644907</td>\n",
       "      <td>32.0</td>\n",
       "      <td>1.279385</td>\n",
       "      <td>0.154033</td>\n",
       "    </tr>\n",
       "    <tr>\n",
       "      <th>Residual</th>\n",
       "      <td>362.646001</td>\n",
       "      <td>237.0</td>\n",
       "      <td>NaN</td>\n",
       "      <td>NaN</td>\n",
       "    </tr>\n",
       "  </tbody>\n",
       "</table>\n",
       "</div>"
      ]
     },
     "metadata": {},
     "execution_count": 17
    }
   ],
   "metadata": {}
  },
  {
   "cell_type": "code",
   "execution_count": 18,
   "source": [
    "import statsmodels.api as sm\n",
    "from statsmodels.formula.api import ols \n",
    "\n",
    "for i in range(1, 4):\n",
    "    tmp_data = data[(data[\"area_type\"] == i) & (data[\"area\"] > 0)]\n",
    "    region_data = pd.DataFrame({\"region\": tmp_data[\"region\"], \"area\": tmp_data[\"log_area\"]})\n",
    "\n",
    "    anova_model = ols(\"area ~ C(region)\", data=region_data).fit()\n",
    "    anova_table = sm.stats.anova_lm(anova_model, typ=3)\n",
    "    print(anova_table)\n",
    "    print(\"========\")"
   ],
   "outputs": [
    {
     "output_type": "stream",
     "name": "stdout",
     "text": [
      "             sum_sq    df         F    PR(>F)\n",
      "Intercept  0.475067   1.0  5.558316  0.022517\n",
      "C(region)  1.615050  20.0  0.944809  0.538692\n",
      "Residual   4.102541  48.0       NaN       NaN\n",
      "========\n",
      "              sum_sq     df          F    PR(>F)\n",
      "Intercept   3.674592    1.0  17.357571  0.000063\n",
      "C(region)   4.455436   26.0   0.809462  0.726574\n",
      "Residual   22.440166  106.0        NaN       NaN\n",
      "========\n",
      "              sum_sq    df          F    PR(>F)\n",
      "Intercept  28.787679   1.0  32.465086  0.000001\n",
      "C(region)  12.730051  24.0   0.598176  0.910042\n",
      "Residual   38.129275  43.0        NaN       NaN\n",
      "========\n"
     ]
    }
   ],
   "metadata": {}
  },
  {
   "cell_type": "code",
   "execution_count": 22,
   "source": [
    "plt.figure(figsize=(20, 10))\n",
    "plt.xlabel(\"Log_aera\", fontsize=20)\n",
    "plt.ylabel(\"Month\", fontsize=20)\n",
    "plt.xticks(rotation=45, fontsize=20)\n",
    "plt.yticks(fontsize=20)\n",
    "sbs.boxplot(x=data[\"month\"], y=data[\"log_area\"])"
   ],
   "outputs": [
    {
     "output_type": "execute_result",
     "data": {
      "text/plain": [
       "<AxesSubplot:xlabel='month', ylabel='log_area'>"
      ]
     },
     "metadata": {},
     "execution_count": 22
    },
    {
     "output_type": "display_data",
     "data": {
      "text/plain": [
       "<Figure size 1440x720 with 1 Axes>"
      ],
      "image/png": "[encoded data removed]"
     },
     "metadata": {
      "needs_background": "light"
     }
    }
   ],
   "metadata": {}
  },
  {
   "cell_type": "code",
   "execution_count": 20,
   "source": [
    "import statsmodels.api as sm\n",
    "from statsmodels.formula.api import ols \n",
    "\n",
    "month_data = pd.DataFrame({\"month\": data[\"month\"], \"area\": data[\"area_type\"]})\n",
    "\n",
    "anova_model = ols(\"area ~ C(month)\", data=month_data).fit()\n",
    "anova_table = sm.stats.anova_lm(anova_model, typ=3)\n",
    "anova_table"
   ],
   "outputs": [
    {
     "output_type": "execute_result",
     "data": {
      "text/plain": [
       "               sum_sq     df          F        PR(>F)\n",
       "Intercept   21.777778    1.0  43.147298  1.264898e-10\n",
       "C(month)    10.147611   11.0   1.827726  4.687466e-02\n",
       "Residual   254.889140  505.0        NaN           NaN"
      ],
      "text/html": [
       "<div>\n",
       "<style scoped>\n",
       "    .dataframe tbody tr th:only-of-type {\n",
       "        vertical-align: middle;\n",
       "    }\n",
       "\n",
       "    .dataframe tbody tr th {\n",
       "        vertical-align: top;\n",
       "    }\n",
       "\n",
       "    .dataframe thead th {\n",
       "        text-align: right;\n",
       "    }\n",
       "</style>\n",
       "<table border=\"1\" class=\"dataframe\">\n",
       "  <thead>\n",
       "    <tr style=\"text-align: right;\">\n",
       "      <th></th>\n",
       "      <th>sum_sq</th>\n",
       "      <th>df</th>\n",
       "      <th>F</th>\n",
       "      <th>PR(&gt;F)</th>\n",
       "    </tr>\n",
       "  </thead>\n",
       "  <tbody>\n",
       "    <tr>\n",
       "      <th>Intercept</th>\n",
       "      <td>21.777778</td>\n",
       "      <td>1.0</td>\n",
       "      <td>43.147298</td>\n",
       "      <td>1.264898e-10</td>\n",
       "    </tr>\n",
       "    <tr>\n",
       "      <th>C(month)</th>\n",
       "      <td>10.147611</td>\n",
       "      <td>11.0</td>\n",
       "      <td>1.827726</td>\n",
       "      <td>4.687466e-02</td>\n",
       "    </tr>\n",
       "    <tr>\n",
       "      <th>Residual</th>\n",
       "      <td>254.889140</td>\n",
       "      <td>505.0</td>\n",
       "      <td>NaN</td>\n",
       "      <td>NaN</td>\n",
       "    </tr>\n",
       "  </tbody>\n",
       "</table>\n",
       "</div>"
      ]
     },
     "metadata": {},
     "execution_count": 20
    }
   ],
   "metadata": {}
  },
  {
   "cell_type": "code",
   "execution_count": 21,
   "source": [
    "import statsmodels.api as sm\n",
    "from statsmodels.formula.api import ols \n",
    "\n",
    "tmp_data = data[(data[\"month_type\"] == 1) & (data[\"area\"] > 0)]\n",
    "\n",
    "month_data = pd.DataFrame({\"month\": tmp_data[\"month\"], \"area\": tmp_data[\"area_type\"]})\n",
    "\n",
    "anova_model = ols(\"area ~ C(month)\", data=month_data).fit()\n",
    "anova_table = sm.stats.anova_lm(anova_model, typ=3)\n",
    "anova_table"
   ],
   "outputs": [
    {
     "output_type": "execute_result",
     "data": {
      "text/plain": [
       "              sum_sq    df          F        PR(>F)\n",
       "Intercept  20.250000   1.0  46.249886  3.657495e-09\n",
       "C(month)    3.981010   7.0   1.298915  2.648002e-01\n",
       "Residual   28.897368  66.0        NaN           NaN"
      ],
      "text/html": [
       "<div>\n",
       "<style scoped>\n",
       "    .dataframe tbody tr th:only-of-type {\n",
       "        vertical-align: middle;\n",
       "    }\n",
       "\n",
       "    .dataframe tbody tr th {\n",
       "        vertical-align: top;\n",
       "    }\n",
       "\n",
       "    .dataframe thead th {\n",
       "        text-align: right;\n",
       "    }\n",
       "</style>\n",
       "<table border=\"1\" class=\"dataframe\">\n",
       "  <thead>\n",
       "    <tr style=\"text-align: right;\">\n",
       "      <th></th>\n",
       "      <th>sum_sq</th>\n",
       "      <th>df</th>\n",
       "      <th>F</th>\n",
       "      <th>PR(&gt;F)</th>\n",
       "    </tr>\n",
       "  </thead>\n",
       "  <tbody>\n",
       "    <tr>\n",
       "      <th>Intercept</th>\n",
       "      <td>20.250000</td>\n",
       "      <td>1.0</td>\n",
       "      <td>46.249886</td>\n",
       "      <td>3.657495e-09</td>\n",
       "    </tr>\n",
       "    <tr>\n",
       "      <th>C(month)</th>\n",
       "      <td>3.981010</td>\n",
       "      <td>7.0</td>\n",
       "      <td>1.298915</td>\n",
       "      <td>2.648002e-01</td>\n",
       "    </tr>\n",
       "    <tr>\n",
       "      <th>Residual</th>\n",
       "      <td>28.897368</td>\n",
       "      <td>66.0</td>\n",
       "      <td>NaN</td>\n",
       "      <td>NaN</td>\n",
       "    </tr>\n",
       "  </tbody>\n",
       "</table>\n",
       "</div>"
      ]
     },
     "metadata": {},
     "execution_count": 21
    }
   ],
   "metadata": {}
  },
  {
   "cell_type": "code",
   "execution_count": 23,
   "source": [
    "plt.figure(figsize=(20, 10))\n",
    "plt.xlabel(\"Log_aera\", fontsize=20)\n",
    "plt.ylabel(\"Day\", fontsize=20)\n",
    "plt.xticks(rotation=45, fontsize=20)\n",
    "plt.yticks(fontsize=20)\n",
    "sbs.boxplot(x=data[\"day\"], y=data[\"log_area\"])\n",
    "sbs.stripplot(x=data[\"day\"], y=data[\"log_area\"])"
   ],
   "outputs": [
    {
     "output_type": "execute_result",
     "data": {
      "text/plain": [
       "<AxesSubplot:xlabel='day', ylabel='log_area'>"
      ]
     },
     "metadata": {},
     "execution_count": 23
    },
    {
     "output_type": "display_data",
     "data": {
      "text/plain": [
       "<Figure size 1440x720 with 1 Axes>"
      ],
      "image/png": "[encoded data removed]"
     },
     "metadata": {
      "needs_background": "light"
     }
    }
   ],
   "metadata": {}
  },
  {
   "cell_type": "code",
   "execution_count": 62,
   "source": [
    "import statsmodels.api as sm\n",
    "from statsmodels.formula.api import ols \n",
    "\n",
    "day_data = pd.DataFrame({\"day\": data[\"day\"], \"area\": data[\"log_area\"]})\n",
    "\n",
    "anova_model = ols(\"area ~ C(day)\", data=day_data).fit()\n",
    "anova_table = sm.stats.anova_lm(anova_model, typ=3)\n",
    "anova_table"
   ],
   "outputs": [
    {
     "output_type": "execute_result",
     "data": {
      "text/plain": [
       "                sum_sq     df          F        PR(>F)\n",
       "Intercept    79.938705    1.0  40.570636  4.238699e-10\n",
       "C(day)        4.218600    6.0   0.356839  9.058998e-01\n",
       "Residual   1004.882931  510.0        NaN           NaN"
      ],
      "text/html": [
       "<div>\n",
       "<style scoped>\n",
       "    .dataframe tbody tr th:only-of-type {\n",
       "        vertical-align: middle;\n",
       "    }\n",
       "\n",
       "    .dataframe tbody tr th {\n",
       "        vertical-align: top;\n",
       "    }\n",
       "\n",
       "    .dataframe thead th {\n",
       "        text-align: right;\n",
       "    }\n",
       "</style>\n",
       "<table border=\"1\" class=\"dataframe\">\n",
       "  <thead>\n",
       "    <tr style=\"text-align: right;\">\n",
       "      <th></th>\n",
       "      <th>sum_sq</th>\n",
       "      <th>df</th>\n",
       "      <th>F</th>\n",
       "      <th>PR(&gt;F)</th>\n",
       "    </tr>\n",
       "  </thead>\n",
       "  <tbody>\n",
       "    <tr>\n",
       "      <th>Intercept</th>\n",
       "      <td>79.938705</td>\n",
       "      <td>1.0</td>\n",
       "      <td>40.570636</td>\n",
       "      <td>4.238699e-10</td>\n",
       "    </tr>\n",
       "    <tr>\n",
       "      <th>C(day)</th>\n",
       "      <td>4.218600</td>\n",
       "      <td>6.0</td>\n",
       "      <td>0.356839</td>\n",
       "      <td>9.058998e-01</td>\n",
       "    </tr>\n",
       "    <tr>\n",
       "      <th>Residual</th>\n",
       "      <td>1004.882931</td>\n",
       "      <td>510.0</td>\n",
       "      <td>NaN</td>\n",
       "      <td>NaN</td>\n",
       "    </tr>\n",
       "  </tbody>\n",
       "</table>\n",
       "</div>"
      ]
     },
     "metadata": {},
     "execution_count": 62
    }
   ],
   "metadata": {}
  },
  {
   "cell_type": "markdown",
   "source": [
    "## Anova for temp"
   ],
   "metadata": {}
  },
  {
   "cell_type": "code",
   "execution_count": 64,
   "source": [
    "import statsmodels.api as sm\n",
    "from statsmodels.formula.api import ols \n",
    "\n",
    "day_data = pd.DataFrame({\"temp\": data[\"temp\"], \"area\": data[\"log_area\"]})\n",
    "\n",
    "anova_model = ols(\"area ~ C(temp)\", data=day_data).fit()\n",
    "anova_table = sm.stats.anova_lm(anova_model, typ=3)\n",
    "anova_table"
   ],
   "outputs": [
    {
     "output_type": "execute_result",
     "data": {
      "text/plain": [
       "               sum_sq     df         F    PR(>F)\n",
       "Intercept    5.425299    1.0  3.075013  0.080447\n",
       "C(temp)    435.698378  191.0  1.292933  0.021618\n",
       "Residual   573.403154  325.0       NaN       NaN"
      ],
      "text/html": [
       "<div>\n",
       "<style scoped>\n",
       "    .dataframe tbody tr th:only-of-type {\n",
       "        vertical-align: middle;\n",
       "    }\n",
       "\n",
       "    .dataframe tbody tr th {\n",
       "        vertical-align: top;\n",
       "    }\n",
       "\n",
       "    .dataframe thead th {\n",
       "        text-align: right;\n",
       "    }\n",
       "</style>\n",
       "<table border=\"1\" class=\"dataframe\">\n",
       "  <thead>\n",
       "    <tr style=\"text-align: right;\">\n",
       "      <th></th>\n",
       "      <th>sum_sq</th>\n",
       "      <th>df</th>\n",
       "      <th>F</th>\n",
       "      <th>PR(&gt;F)</th>\n",
       "    </tr>\n",
       "  </thead>\n",
       "  <tbody>\n",
       "    <tr>\n",
       "      <th>Intercept</th>\n",
       "      <td>5.425299</td>\n",
       "      <td>1.0</td>\n",
       "      <td>3.075013</td>\n",
       "      <td>0.080447</td>\n",
       "    </tr>\n",
       "    <tr>\n",
       "      <th>C(temp)</th>\n",
       "      <td>435.698378</td>\n",
       "      <td>191.0</td>\n",
       "      <td>1.292933</td>\n",
       "      <td>0.021618</td>\n",
       "    </tr>\n",
       "    <tr>\n",
       "      <th>Residual</th>\n",
       "      <td>573.403154</td>\n",
       "      <td>325.0</td>\n",
       "      <td>NaN</td>\n",
       "      <td>NaN</td>\n",
       "    </tr>\n",
       "  </tbody>\n",
       "</table>\n",
       "</div>"
      ]
     },
     "metadata": {},
     "execution_count": 64
    }
   ],
   "metadata": {}
  },
  {
   "cell_type": "markdown",
   "source": [
    "## Anova for RH"
   ],
   "metadata": {}
  },
  {
   "cell_type": "code",
   "execution_count": 65,
   "source": [
    "import statsmodels.api as sm\n",
    "from statsmodels.formula.api import ols \n",
    "\n",
    "day_data = pd.DataFrame({\"RH\": data[\"RH\"], \"area\": data[\"log_area\"]})\n",
    "\n",
    "anova_model = ols(\"area ~ C(RH)\", data=day_data).fit()\n",
    "anova_table = sm.stats.anova_lm(anova_model, typ=3)\n",
    "anova_table"
   ],
   "outputs": [
    {
     "output_type": "execute_result",
     "data": {
      "text/plain": [
       "               sum_sq     df         F    PR(>F)\n",
       "Intercept    3.099787    1.0  1.622175  0.203458\n",
       "C(RH)      164.491500   74.0  1.163263  0.181997\n",
       "Residual   844.610032  442.0       NaN       NaN"
      ],
      "text/html": [
       "<div>\n",
       "<style scoped>\n",
       "    .dataframe tbody tr th:only-of-type {\n",
       "        vertical-align: middle;\n",
       "    }\n",
       "\n",
       "    .dataframe tbody tr th {\n",
       "        vertical-align: top;\n",
       "    }\n",
       "\n",
       "    .dataframe thead th {\n",
       "        text-align: right;\n",
       "    }\n",
       "</style>\n",
       "<table border=\"1\" class=\"dataframe\">\n",
       "  <thead>\n",
       "    <tr style=\"text-align: right;\">\n",
       "      <th></th>\n",
       "      <th>sum_sq</th>\n",
       "      <th>df</th>\n",
       "      <th>F</th>\n",
       "      <th>PR(&gt;F)</th>\n",
       "    </tr>\n",
       "  </thead>\n",
       "  <tbody>\n",
       "    <tr>\n",
       "      <th>Intercept</th>\n",
       "      <td>3.099787</td>\n",
       "      <td>1.0</td>\n",
       "      <td>1.622175</td>\n",
       "      <td>0.203458</td>\n",
       "    </tr>\n",
       "    <tr>\n",
       "      <th>C(RH)</th>\n",
       "      <td>164.491500</td>\n",
       "      <td>74.0</td>\n",
       "      <td>1.163263</td>\n",
       "      <td>0.181997</td>\n",
       "    </tr>\n",
       "    <tr>\n",
       "      <th>Residual</th>\n",
       "      <td>844.610032</td>\n",
       "      <td>442.0</td>\n",
       "      <td>NaN</td>\n",
       "      <td>NaN</td>\n",
       "    </tr>\n",
       "  </tbody>\n",
       "</table>\n",
       "</div>"
      ]
     },
     "metadata": {},
     "execution_count": 65
    }
   ],
   "metadata": {}
  },
  {
   "cell_type": "markdown",
   "source": [
    "## Anova for FFMC"
   ],
   "metadata": {}
  },
  {
   "cell_type": "code",
   "execution_count": 66,
   "source": [
    "import statsmodels.api as sm\n",
    "from statsmodels.formula.api import ols \n",
    "\n",
    "day_data = pd.DataFrame({\"FFMC\": data[\"FFMC\"], \"area\": data[\"log_area\"]})\n",
    "\n",
    "anova_model = ols(\"area ~ C(FFMC)\", data=day_data).fit()\n",
    "anova_table = sm.stats.anova_lm(anova_model, typ=3)\n",
    "anova_table"
   ],
   "outputs": [
    {
     "output_type": "execute_result",
     "data": {
      "text/plain": [
       "                 sum_sq     df             F   PR(>F)\n",
       "Intercept  2.118275e-27    1.0  1.047041e-27  1.00000\n",
       "C(FFMC)    1.776051e+02  105.0  8.360792e-01  0.86546\n",
       "Residual   8.314965e+02  411.0           NaN      NaN"
      ],
      "text/html": [
       "<div>\n",
       "<style scoped>\n",
       "    .dataframe tbody tr th:only-of-type {\n",
       "        vertical-align: middle;\n",
       "    }\n",
       "\n",
       "    .dataframe tbody tr th {\n",
       "        vertical-align: top;\n",
       "    }\n",
       "\n",
       "    .dataframe thead th {\n",
       "        text-align: right;\n",
       "    }\n",
       "</style>\n",
       "<table border=\"1\" class=\"dataframe\">\n",
       "  <thead>\n",
       "    <tr style=\"text-align: right;\">\n",
       "      <th></th>\n",
       "      <th>sum_sq</th>\n",
       "      <th>df</th>\n",
       "      <th>F</th>\n",
       "      <th>PR(&gt;F)</th>\n",
       "    </tr>\n",
       "  </thead>\n",
       "  <tbody>\n",
       "    <tr>\n",
       "      <th>Intercept</th>\n",
       "      <td>2.118275e-27</td>\n",
       "      <td>1.0</td>\n",
       "      <td>1.047041e-27</td>\n",
       "      <td>1.00000</td>\n",
       "    </tr>\n",
       "    <tr>\n",
       "      <th>C(FFMC)</th>\n",
       "      <td>1.776051e+02</td>\n",
       "      <td>105.0</td>\n",
       "      <td>8.360792e-01</td>\n",
       "      <td>0.86546</td>\n",
       "    </tr>\n",
       "    <tr>\n",
       "      <th>Residual</th>\n",
       "      <td>8.314965e+02</td>\n",
       "      <td>411.0</td>\n",
       "      <td>NaN</td>\n",
       "      <td>NaN</td>\n",
       "    </tr>\n",
       "  </tbody>\n",
       "</table>\n",
       "</div>"
      ]
     },
     "metadata": {},
     "execution_count": 66
    }
   ],
   "metadata": {}
  },
  {
   "cell_type": "code",
   "execution_count": null,
   "source": [],
   "outputs": [],
   "metadata": {}
  },
  {
   "cell_type": "markdown",
   "source": [
    "## Anova for DC"
   ],
   "metadata": {}
  },
  {
   "cell_type": "code",
   "execution_count": 67,
   "source": [
    "import statsmodels.api as sm\n",
    "from statsmodels.formula.api import ols \n",
    "\n",
    "day_data = pd.DataFrame({\"DC\": data[\"DC\"], \"area\": data[\"log_area\"]})\n",
    "\n",
    "anova_model = ols(\"area ~ C(DC)\", data=day_data).fit()\n",
    "anova_table = sm.stats.anova_lm(anova_model, typ=3)\n",
    "anova_table"
   ],
   "outputs": [
    {
     "output_type": "execute_result",
     "data": {
      "text/plain": [
       "                 sum_sq     df             F    PR(>F)\n",
       "Intercept  2.090710e-28    1.0  1.059105e-28  1.000000\n",
       "C(DC)      4.208393e+02  218.0  9.779240e-01  0.567621\n",
       "Residual   5.882622e+02  298.0           NaN       NaN"
      ],
      "text/html": [
       "<div>\n",
       "<style scoped>\n",
       "    .dataframe tbody tr th:only-of-type {\n",
       "        vertical-align: middle;\n",
       "    }\n",
       "\n",
       "    .dataframe tbody tr th {\n",
       "        vertical-align: top;\n",
       "    }\n",
       "\n",
       "    .dataframe thead th {\n",
       "        text-align: right;\n",
       "    }\n",
       "</style>\n",
       "<table border=\"1\" class=\"dataframe\">\n",
       "  <thead>\n",
       "    <tr style=\"text-align: right;\">\n",
       "      <th></th>\n",
       "      <th>sum_sq</th>\n",
       "      <th>df</th>\n",
       "      <th>F</th>\n",
       "      <th>PR(&gt;F)</th>\n",
       "    </tr>\n",
       "  </thead>\n",
       "  <tbody>\n",
       "    <tr>\n",
       "      <th>Intercept</th>\n",
       "      <td>2.090710e-28</td>\n",
       "      <td>1.0</td>\n",
       "      <td>1.059105e-28</td>\n",
       "      <td>1.000000</td>\n",
       "    </tr>\n",
       "    <tr>\n",
       "      <th>C(DC)</th>\n",
       "      <td>4.208393e+02</td>\n",
       "      <td>218.0</td>\n",
       "      <td>9.779240e-01</td>\n",
       "      <td>0.567621</td>\n",
       "    </tr>\n",
       "    <tr>\n",
       "      <th>Residual</th>\n",
       "      <td>5.882622e+02</td>\n",
       "      <td>298.0</td>\n",
       "      <td>NaN</td>\n",
       "      <td>NaN</td>\n",
       "    </tr>\n",
       "  </tbody>\n",
       "</table>\n",
       "</div>"
      ]
     },
     "metadata": {},
     "execution_count": 67
    }
   ],
   "metadata": {}
  },
  {
   "cell_type": "markdown",
   "source": [
    "## Anova for DMC"
   ],
   "metadata": {}
  },
  {
   "cell_type": "code",
   "execution_count": 68,
   "source": [
    "import statsmodels.api as sm\n",
    "from statsmodels.formula.api import ols \n",
    "\n",
    "day_data = pd.DataFrame({\"DMC\": data[\"DMC\"], \"area\": data[\"log_area\"]})\n",
    "\n",
    "anova_model = ols(\"area ~ C(DMC)\", data=day_data).fit()\n",
    "anova_table = sm.stats.anova_lm(anova_model, typ=3)\n",
    "anova_table"
   ],
   "outputs": [
    {
     "output_type": "execute_result",
     "data": {
      "text/plain": [
       "                 sum_sq     df             F    PR(>F)\n",
       "Intercept  1.020867e-27    1.0  5.308262e-28  1.000000\n",
       "C(DMC)     4.283053e+02  214.0  1.040694e+00  0.373395\n",
       "Residual   5.807962e+02  302.0           NaN       NaN"
      ],
      "text/html": [
       "<div>\n",
       "<style scoped>\n",
       "    .dataframe tbody tr th:only-of-type {\n",
       "        vertical-align: middle;\n",
       "    }\n",
       "\n",
       "    .dataframe tbody tr th {\n",
       "        vertical-align: top;\n",
       "    }\n",
       "\n",
       "    .dataframe thead th {\n",
       "        text-align: right;\n",
       "    }\n",
       "</style>\n",
       "<table border=\"1\" class=\"dataframe\">\n",
       "  <thead>\n",
       "    <tr style=\"text-align: right;\">\n",
       "      <th></th>\n",
       "      <th>sum_sq</th>\n",
       "      <th>df</th>\n",
       "      <th>F</th>\n",
       "      <th>PR(&gt;F)</th>\n",
       "    </tr>\n",
       "  </thead>\n",
       "  <tbody>\n",
       "    <tr>\n",
       "      <th>Intercept</th>\n",
       "      <td>1.020867e-27</td>\n",
       "      <td>1.0</td>\n",
       "      <td>5.308262e-28</td>\n",
       "      <td>1.000000</td>\n",
       "    </tr>\n",
       "    <tr>\n",
       "      <th>C(DMC)</th>\n",
       "      <td>4.283053e+02</td>\n",
       "      <td>214.0</td>\n",
       "      <td>1.040694e+00</td>\n",
       "      <td>0.373395</td>\n",
       "    </tr>\n",
       "    <tr>\n",
       "      <th>Residual</th>\n",
       "      <td>5.807962e+02</td>\n",
       "      <td>302.0</td>\n",
       "      <td>NaN</td>\n",
       "      <td>NaN</td>\n",
       "    </tr>\n",
       "  </tbody>\n",
       "</table>\n",
       "</div>"
      ]
     },
     "metadata": {},
     "execution_count": 68
    }
   ],
   "metadata": {}
  },
  {
   "cell_type": "markdown",
   "source": [
    "## Anova for wind"
   ],
   "metadata": {}
  },
  {
   "cell_type": "code",
   "execution_count": 69,
   "source": [
    "import statsmodels.api as sm\n",
    "from statsmodels.formula.api import ols \n",
    "\n",
    "day_data = pd.DataFrame({\"wind\": data[\"wind\"], \"area\": data[\"log_area\"]})\n",
    "\n",
    "anova_model = ols(\"area ~ C(wind)\", data=day_data).fit()\n",
    "anova_table = sm.stats.anova_lm(anova_model, typ=3)\n",
    "anova_table"
   ],
   "outputs": [
    {
     "output_type": "execute_result",
     "data": {
      "text/plain": [
       "               sum_sq     df         F    PR(>F)\n",
       "Intercept    1.547921    1.0  0.802721  0.370716\n",
       "C(wind)     52.644343   20.0  1.365016  0.133757\n",
       "Residual   956.457188  496.0       NaN       NaN"
      ],
      "text/html": [
       "<div>\n",
       "<style scoped>\n",
       "    .dataframe tbody tr th:only-of-type {\n",
       "        vertical-align: middle;\n",
       "    }\n",
       "\n",
       "    .dataframe tbody tr th {\n",
       "        vertical-align: top;\n",
       "    }\n",
       "\n",
       "    .dataframe thead th {\n",
       "        text-align: right;\n",
       "    }\n",
       "</style>\n",
       "<table border=\"1\" class=\"dataframe\">\n",
       "  <thead>\n",
       "    <tr style=\"text-align: right;\">\n",
       "      <th></th>\n",
       "      <th>sum_sq</th>\n",
       "      <th>df</th>\n",
       "      <th>F</th>\n",
       "      <th>PR(&gt;F)</th>\n",
       "    </tr>\n",
       "  </thead>\n",
       "  <tbody>\n",
       "    <tr>\n",
       "      <th>Intercept</th>\n",
       "      <td>1.547921</td>\n",
       "      <td>1.0</td>\n",
       "      <td>0.802721</td>\n",
       "      <td>0.370716</td>\n",
       "    </tr>\n",
       "    <tr>\n",
       "      <th>C(wind)</th>\n",
       "      <td>52.644343</td>\n",
       "      <td>20.0</td>\n",
       "      <td>1.365016</td>\n",
       "      <td>0.133757</td>\n",
       "    </tr>\n",
       "    <tr>\n",
       "      <th>Residual</th>\n",
       "      <td>956.457188</td>\n",
       "      <td>496.0</td>\n",
       "      <td>NaN</td>\n",
       "      <td>NaN</td>\n",
       "    </tr>\n",
       "  </tbody>\n",
       "</table>\n",
       "</div>"
      ]
     },
     "metadata": {},
     "execution_count": 69
    }
   ],
   "metadata": {}
  },
  {
   "cell_type": "markdown",
   "source": [
    "## Anova for ISI"
   ],
   "metadata": {}
  },
  {
   "cell_type": "code",
   "execution_count": 70,
   "source": [
    "import statsmodels.api as sm\n",
    "from statsmodels.formula.api import ols \n",
    "\n",
    "day_data = pd.DataFrame({\"ISI\": data[\"ISI\"], \"area\": data[\"log_area\"]})\n",
    "\n",
    "anova_model = ols(\"area ~ C(ISI)\", data=day_data).fit()\n",
    "anova_table = sm.stats.anova_lm(anova_model, typ=3)\n",
    "anova_table"
   ],
   "outputs": [
    {
     "output_type": "execute_result",
     "data": {
      "text/plain": [
       "                 sum_sq     df             F    PR(>F)\n",
       "Intercept  7.315675e-28    1.0  3.608130e-28  1.000000\n",
       "C(ISI)     2.021355e+02  118.0  8.448672e-01  0.862489\n",
       "Residual   8.069660e+02  398.0           NaN       NaN"
      ],
      "text/html": [
       "<div>\n",
       "<style scoped>\n",
       "    .dataframe tbody tr th:only-of-type {\n",
       "        vertical-align: middle;\n",
       "    }\n",
       "\n",
       "    .dataframe tbody tr th {\n",
       "        vertical-align: top;\n",
       "    }\n",
       "\n",
       "    .dataframe thead th {\n",
       "        text-align: right;\n",
       "    }\n",
       "</style>\n",
       "<table border=\"1\" class=\"dataframe\">\n",
       "  <thead>\n",
       "    <tr style=\"text-align: right;\">\n",
       "      <th></th>\n",
       "      <th>sum_sq</th>\n",
       "      <th>df</th>\n",
       "      <th>F</th>\n",
       "      <th>PR(&gt;F)</th>\n",
       "    </tr>\n",
       "  </thead>\n",
       "  <tbody>\n",
       "    <tr>\n",
       "      <th>Intercept</th>\n",
       "      <td>7.315675e-28</td>\n",
       "      <td>1.0</td>\n",
       "      <td>3.608130e-28</td>\n",
       "      <td>1.000000</td>\n",
       "    </tr>\n",
       "    <tr>\n",
       "      <th>C(ISI)</th>\n",
       "      <td>2.021355e+02</td>\n",
       "      <td>118.0</td>\n",
       "      <td>8.448672e-01</td>\n",
       "      <td>0.862489</td>\n",
       "    </tr>\n",
       "    <tr>\n",
       "      <th>Residual</th>\n",
       "      <td>8.069660e+02</td>\n",
       "      <td>398.0</td>\n",
       "      <td>NaN</td>\n",
       "      <td>NaN</td>\n",
       "    </tr>\n",
       "  </tbody>\n",
       "</table>\n",
       "</div>"
      ]
     },
     "metadata": {},
     "execution_count": 70
    }
   ],
   "metadata": {}
  },
  {
   "cell_type": "code",
   "execution_count": 24,
   "source": [
    "plt.figure(figsize=(20, 10))\n",
    "sbs.histplot(data[\"day\"])"
   ],
   "outputs": [
    {
     "output_type": "execute_result",
     "data": {
      "text/plain": [
       "<AxesSubplot:xlabel='day', ylabel='Count'>"
      ]
     },
     "metadata": {},
     "execution_count": 24
    },
    {
     "output_type": "display_data",
     "data": {
      "text/plain": [
       "<Figure size 1440x720 with 1 Axes>"
      ],
      "image/png": "[encoded data removed]"
     },
     "metadata": {
      "needs_background": "light"
     }
    }
   ],
   "metadata": {}
  },
  {
   "cell_type": "markdown",
   "source": [
    "## Interaction between month and day"
   ],
   "metadata": {}
  },
  {
   "cell_type": "code",
   "execution_count": 25,
   "source": [
    "plt.figure(figsize=(30, 10))\n",
    "sbs.stripplot(x=\"month\", y=\"log_area\", hue=\"day\", data=data)"
   ],
   "outputs": [
    {
     "output_type": "execute_result",
     "data": {
      "text/plain": [
       "<AxesSubplot:xlabel='month', ylabel='log_area'>"
      ]
     },
     "metadata": {},
     "execution_count": 25
    },
    {
     "output_type": "display_data",
     "data": {
      "text/plain": [
       "<Figure size 2160x720 with 1 Axes>"
      ],
      "image/png": "[encoded data removed]"
     },
     "metadata": {
      "needs_background": "light"
     }
    }
   ],
   "metadata": {}
  },
  {
   "cell_type": "code",
   "execution_count": 26,
   "source": [
    "plt.figure(figsize=(30, 10))\n",
    "plt.xlabel(\"Log_aera\", fontsize=20)\n",
    "plt.ylabel(\"Month\", fontsize=20)\n",
    "plt.xticks(rotation=45, fontsize=20)\n",
    "plt.yticks(fontsize=20)\n",
    "sbs.boxplot(x=\"month\", y=\"log_area\", hue=\"day\", data=data)"
   ],
   "outputs": [
    {
     "output_type": "execute_result",
     "data": {
      "text/plain": [
       "<AxesSubplot:xlabel='month', ylabel='log_area'>"
      ]
     },
     "metadata": {},
     "execution_count": 26
    },
    {
     "output_type": "display_data",
     "data": {
      "text/plain": [
       "<Figure size 2160x720 with 1 Axes>"
      ],
      "image/png": "[encoded data removed]"
     },
     "metadata": {
      "needs_background": "light"
     }
    }
   ],
   "metadata": {}
  },
  {
   "cell_type": "markdown",
   "source": [
    "## Two-way ANOVA"
   ],
   "metadata": {}
  },
  {
   "cell_type": "code",
   "execution_count": 74,
   "source": [
    "import statsmodels.api as sm\n",
    "from statsmodels.formula.api import ols\n",
    "\n",
    "time_data = pd.DataFrame({\"day\": data[\"day\"], \"month\": data[\"month\"], \"area\": data[\"log_area\"]})\n",
    "anova_model = ols(\"area ~ C(day)*C(month)\", data=time_data).fit()\n",
    "anova_table = sm.stats.anova_lm(anova_model, typ=1)\n",
    "anova_table"
   ],
   "outputs": [
    {
     "output_type": "execute_result",
     "data": {
      "text/plain": [
       "                    df      sum_sq   mean_sq         F    PR(>F)\n",
       "C(day)             6.0    4.218600  0.703100  0.355631  0.906564\n",
       "C(month)          11.0   39.797083  3.617917  1.829957  0.046878\n",
       "C(day):C(month)   66.0   89.304402  1.353097  0.684402  0.970764\n",
       "Residual         453.0  895.603899  1.977051       NaN       NaN"
      ],
      "text/html": [
       "<div>\n",
       "<style scoped>\n",
       "    .dataframe tbody tr th:only-of-type {\n",
       "        vertical-align: middle;\n",
       "    }\n",
       "\n",
       "    .dataframe tbody tr th {\n",
       "        vertical-align: top;\n",
       "    }\n",
       "\n",
       "    .dataframe thead th {\n",
       "        text-align: right;\n",
       "    }\n",
       "</style>\n",
       "<table border=\"1\" class=\"dataframe\">\n",
       "  <thead>\n",
       "    <tr style=\"text-align: right;\">\n",
       "      <th></th>\n",
       "      <th>df</th>\n",
       "      <th>sum_sq</th>\n",
       "      <th>mean_sq</th>\n",
       "      <th>F</th>\n",
       "      <th>PR(&gt;F)</th>\n",
       "    </tr>\n",
       "  </thead>\n",
       "  <tbody>\n",
       "    <tr>\n",
       "      <th>C(day)</th>\n",
       "      <td>6.0</td>\n",
       "      <td>4.218600</td>\n",
       "      <td>0.703100</td>\n",
       "      <td>0.355631</td>\n",
       "      <td>0.906564</td>\n",
       "    </tr>\n",
       "    <tr>\n",
       "      <th>C(month)</th>\n",
       "      <td>11.0</td>\n",
       "      <td>39.797083</td>\n",
       "      <td>3.617917</td>\n",
       "      <td>1.829957</td>\n",
       "      <td>0.046878</td>\n",
       "    </tr>\n",
       "    <tr>\n",
       "      <th>C(day):C(month)</th>\n",
       "      <td>66.0</td>\n",
       "      <td>89.304402</td>\n",
       "      <td>1.353097</td>\n",
       "      <td>0.684402</td>\n",
       "      <td>0.970764</td>\n",
       "    </tr>\n",
       "    <tr>\n",
       "      <th>Residual</th>\n",
       "      <td>453.0</td>\n",
       "      <td>895.603899</td>\n",
       "      <td>1.977051</td>\n",
       "      <td>NaN</td>\n",
       "      <td>NaN</td>\n",
       "    </tr>\n",
       "  </tbody>\n",
       "</table>\n",
       "</div>"
      ]
     },
     "metadata": {},
     "execution_count": 74
    }
   ],
   "metadata": {}
  },
  {
   "cell_type": "markdown",
   "source": [
    "# Linear regression - Experiment 1"
   ],
   "metadata": {}
  },
  {
   "cell_type": "code",
   "execution_count": 15,
   "source": [
    "import statsmodels.api as sm\n",
    "\n",
    "X = data[[\"month_type\", \"FFMC\", \"DMC\", \"ISI\", \"temp\", \"wind\", \"DC\"]].to_numpy()\n",
    "X = sm.add_constant(X)\n",
    "y = data[\"log_area\"]"
   ],
   "outputs": [],
   "metadata": {}
  },
  {
   "cell_type": "code",
   "execution_count": 16,
   "source": [
    "import statsmodels.formula.api as smf\n",
    "import statsmodels.api as sm\n",
    "\n",
    "formula = \"log_area ~ month_type + FFMC + DMC + ISI + temp + wind + DC\"\n",
    "\n",
    "mod1 = smf.glm(formula=formula, data=data, family=sm.families.Gaussian()).fit()\n",
    "print(mod1.summary())"
   ],
   "outputs": [
    {
     "output_type": "stream",
     "name": "stdout",
     "text": [
      "                 Generalized Linear Model Regression Results                  \n",
      "==============================================================================\n",
      "Dep. Variable:               log_area   No. Observations:                  517\n",
      "Model:                            GLM   Df Residuals:                      509\n",
      "Model Family:                Gaussian   Df Model:                            7\n",
      "Link Function:               identity   Scale:                          1.9469\n",
      "Method:                          IRLS   Log-Likelihood:                -901.78\n",
      "Date:                Sun, 18 Jul 2021   Deviance:                       990.96\n",
      "Time:                        09:55:28   Pearson chi2:                     991.\n",
      "No. Iterations:                     3                                         \n",
      "Covariance Type:            nonrobust                                         \n",
      "==============================================================================\n",
      "                 coef    std err          z      P>|z|      [0.025      0.975]\n",
      "------------------------------------------------------------------------------\n",
      "Intercept     -0.4163      1.188     -0.350      0.726      -2.745       1.912\n",
      "month_type    -0.0726      0.243     -0.299      0.765      -0.548       0.403\n",
      "FFMC           0.0115      0.014      0.824      0.410      -0.016       0.039\n",
      "DMC            0.0007      0.001      0.539      0.590      -0.002       0.003\n",
      "ISI           -0.0260      0.017     -1.549      0.121      -0.059       0.007\n",
      "temp           0.0133      0.014      0.978      0.328      -0.013       0.040\n",
      "wind           0.0797      0.036      2.191      0.028       0.008       0.151\n",
      "DC             0.0003      0.000      0.700      0.484      -0.001       0.001\n",
      "==============================================================================\n"
     ]
    }
   ],
   "metadata": {}
  },
  {
   "cell_type": "code",
   "execution_count": 19,
   "source": [
    "from sklearn.model_selection import train_test_split\n",
    "\n",
    "X_train, X_test, y_train, y_test = train_test_split(X, y, test_size=0.2)"
   ],
   "outputs": [],
   "metadata": {}
  },
  {
   "cell_type": "code",
   "execution_count": 24,
   "source": [
    "mod1.get_prediction(X_test)"
   ],
   "outputs": [],
   "metadata": {}
  },
  {
   "cell_type": "code",
   "execution_count": 21,
   "source": [
    "from sklearn.metrics import mean_squared_error\n",
    "\n",
    "mse = mean_squared_error(y, y_pred)\n",
    "mse"
   ],
   "outputs": [
    {
     "output_type": "execute_result",
     "data": {
      "text/plain": [
       "1.916755673344904"
      ]
     },
     "metadata": {},
     "execution_count": 21
    }
   ],
   "metadata": {}
  },
  {
   "cell_type": "markdown",
   "source": [
    "# Linear regression - Experiment 2"
   ],
   "metadata": {}
  },
  {
   "cell_type": "code",
   "execution_count": null,
   "source": [
    "X = data[[\"month_type\", \"temp\"]].to_numpy()\n",
    "X = sm.add_constant(X)\n",
    "y = data[\"log_area\"].to_numpy()"
   ],
   "outputs": [],
   "metadata": {}
  },
  {
   "cell_type": "code",
   "execution_count": 76,
   "source": [
    "import statsmodels.formula.api as smf\n",
    "\n",
    "model_3 = olsmod = sm.OLS(y, X)\n",
    "res = model_2.fit()\n",
    "print(res.summary())"
   ],
   "outputs": [
    {
     "output_type": "stream",
     "name": "stdout",
     "text": [
      "                               GEE Regression Results                              \n",
      "===================================================================================\n",
      "Dep. Variable:                        area   No. Observations:                  517\n",
      "Model:                                 GEE   No. clusters:                      251\n",
      "Method:                        Generalized   Min. cluster size:                   1\n",
      "                      Estimating Equations   Max. cluster size:                 247\n",
      "Family:                            Poisson   Mean cluster size:                 2.1\n",
      "Dependence structure:         Exchangeable   Num. iterations:                    21\n",
      "Date:                     Sun, 18 Jul 2021   Scale:                           1.000\n",
      "Covariance type:                    robust   Time:                         09:07:47\n",
      "==============================================================================\n",
      "                 coef    std err          z      P>|z|      [0.025      0.975]\n",
      "------------------------------------------------------------------------------\n",
      "Intercept      2.1142      0.349      6.051      0.000       1.429       2.799\n",
      "month_type     0.0586      0.139      0.422      0.673      -0.214       0.331\n",
      "temp           0.0476      0.018      2.584      0.010       0.012       0.084\n",
      "==============================================================================\n",
      "Skew:                         12.6735   Kurtosis:                     190.0434\n",
      "Centered skew:                -0.8572   Centered kurtosis:              3.9907\n",
      "==============================================================================\n"
     ]
    }
   ],
   "metadata": {}
  },
  {
   "cell_type": "code",
   "execution_count": null,
   "source": [
    "y_pred = res.predict(X)\n",
    "y_pred.shape"
   ],
   "outputs": [],
   "metadata": {}
  },
  {
   "cell_type": "code",
   "execution_count": null,
   "source": [
    "from sklearn.metrics import mean_squared_error\n",
    "\n",
    "mse = mean_squared_error(y, y_pred)\n",
    "mse"
   ],
   "outputs": [],
   "metadata": {}
  },
  {
   "cell_type": "markdown",
   "source": [
    "# Linear regression - Experiment 3"
   ],
   "metadata": {}
  },
  {
   "cell_type": "code",
   "execution_count": 96,
   "source": [
    "X = data[[\"month_type\", \"temp\"]].to_numpy()\n",
    "X = sm.add_constant(X)\n",
    "y = data[\"log_area\"].to_numpy()"
   ],
   "outputs": [],
   "metadata": {}
  },
  {
   "cell_type": "code",
   "execution_count": 97,
   "source": [
    "import statsmodels.formula.api as smf\n",
    "\n",
    "model_3 = olsmod = sm.OLS(y, X)\n",
    "res = model_3.fit()\n",
    "print(res.summary())"
   ],
   "outputs": [
    {
     "output_type": "stream",
     "name": "stdout",
     "text": [
      "                            OLS Regression Results                            \n",
      "==============================================================================\n",
      "Dep. Variable:                      y   R-squared:                       0.004\n",
      "Model:                            OLS   Adj. R-squared:                 -0.000\n",
      "Method:                 Least Squares   F-statistic:                    0.9193\n",
      "Date:                Sun, 18 Jul 2021   Prob (F-statistic):              0.399\n",
      "Time:                        09:23:55   Log-Likelihood:                -905.55\n",
      "No. Observations:                 517   AIC:                             1817.\n",
      "Df Residuals:                     514   BIC:                             1830.\n",
      "Df Model:                           2                                         \n",
      "Covariance Type:            nonrobust                                         \n",
      "==============================================================================\n",
      "                 coef    std err          t      P>|t|      [0.025      0.975]\n",
      "------------------------------------------------------------------------------\n",
      "const          0.7774      0.258      3.018      0.003       0.271       1.284\n",
      "x1             0.0898      0.149      0.602      0.547      -0.203       0.382\n",
      "x2             0.0096      0.012      0.810      0.418      -0.014       0.033\n",
      "==============================================================================\n",
      "Omnibus:                       91.794   Durbin-Watson:                   0.920\n",
      "Prob(Omnibus):                  0.000   Jarque-Bera (JB):              138.408\n",
      "Skew:                           1.197   Prob(JB):                     8.81e-31\n",
      "Kurtosis:                       3.832   Cond. No.                         88.8\n",
      "==============================================================================\n",
      "\n",
      "Notes:\n",
      "[1] Standard Errors assume that the covariance matrix of the errors is correctly specified.\n"
     ]
    }
   ],
   "metadata": {}
  },
  {
   "cell_type": "code",
   "execution_count": 102,
   "source": [
    "y_pred = res.predict(X)\n",
    "y_pred.shape"
   ],
   "outputs": [
    {
     "output_type": "execute_result",
     "data": {
      "text/plain": [
       "(517,)"
      ]
     },
     "metadata": {},
     "execution_count": 102
    }
   ],
   "metadata": {}
  },
  {
   "cell_type": "code",
   "execution_count": 104,
   "source": [
    "from sklearn.metrics import mean_squared_error\n",
    "\n",
    "mse = mean_squared_error(y, y_pred)\n",
    "mse"
   ],
   "outputs": [
    {
     "output_type": "execute_result",
     "data": {
      "text/plain": [
       "1.9448835214166968"
      ]
     },
     "metadata": {},
     "execution_count": 104
    }
   ],
   "metadata": {}
  }
 ],
 "metadata": {
  "orig_nbformat": 4,
  "language_info": {
   "name": "python",
   "version": "3.8.10",
   "mimetype": "text/x-python",
   "codemirror_mode": {
    "name": "ipython",
    "version": 3
   },
   "pygments_lexer": "ipython3",
   "nbconvert_exporter": "python",
   "file_extension": ".py"
  },
  "kernelspec": {
   "name": "python3",
   "display_name": "Python 3.8.10 64-bit"
  },
  "interpreter": {
   "hash": "31f2aee4e71d21fbe5cf8b01ff0e069b9275f58929596ceb00d14d90e3e16cd6"
  }
 },
 "nbformat": 4,
 "nbformat_minor": 2
}